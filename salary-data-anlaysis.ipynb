{
 "cells": [
  {
   "cell_type": "code",
   "execution_count": 1,
   "id": "eb7fd337",
   "metadata": {
    "_cell_guid": "b1076dfc-b9ad-4769-8c92-a6c4dae69d19",
    "_uuid": "8f2839f25d086af736a60e9eeb907d3b93b6e0e5",
    "execution": {
     "iopub.execute_input": "2024-04-30T10:22:48.377444Z",
     "iopub.status.busy": "2024-04-30T10:22:48.377083Z",
     "iopub.status.idle": "2024-04-30T10:22:49.238594Z",
     "shell.execute_reply": "2024-04-30T10:22:49.237436Z"
    },
    "papermill": {
     "duration": 0.873969,
     "end_time": "2024-04-30T10:22:49.241329",
     "exception": false,
     "start_time": "2024-04-30T10:22:48.367360",
     "status": "completed"
    },
    "tags": []
   },
   "outputs": [
    {
     "name": "stdout",
     "output_type": "stream",
     "text": [
      "/kaggle/input/sf-salaries/Salaries.csv\n",
      "/kaggle/input/sf-salaries/database.sqlite\n"
     ]
    }
   ],
   "source": [
    "# This Python 3 environment comes with many helpful analytics libraries installed\n",
    "# It is defined by the kaggle/python Docker image: https://github.com/kaggle/docker-python\n",
    "# For example, here's several helpful packages to load\n",
    "\n",
    "import numpy as np # linear algebra\n",
    "import pandas as pd # data processing, CSV file I/O (e.g. pd.read_csv)\n",
    "\n",
    "# Input data files are available in the read-only \"../input/\" directory\n",
    "# For example, running this (by clicking run or pressing Shift+Enter) will list all files under the input directory\n",
    "\n",
    "import os\n",
    "for dirname, _, filenames in os.walk('/kaggle/input'):\n",
    "    for filename in filenames:\n",
    "        print(os.path.join(dirname, filename))\n",
    "\n",
    "# You can write up to 20GB to the current directory (/kaggle/working/) that gets preserved as output when you create a version using \"Save & Run All\" \n",
    "# You can also write temporary files to /kaggle/temp/, but they won't be saved outside of the current session"
   ]
  },
  {
   "cell_type": "code",
   "execution_count": 2,
   "id": "4760f59c",
   "metadata": {
    "execution": {
     "iopub.execute_input": "2024-04-30T10:22:49.260700Z",
     "iopub.status.busy": "2024-04-30T10:22:49.260230Z",
     "iopub.status.idle": "2024-04-30T10:22:49.715782Z",
     "shell.execute_reply": "2024-04-30T10:22:49.714886Z"
    },
    "papermill": {
     "duration": 0.468077,
     "end_time": "2024-04-30T10:22:49.718305",
     "exception": false,
     "start_time": "2024-04-30T10:22:49.250228",
     "status": "completed"
    },
    "tags": []
   },
   "outputs": [
    {
     "name": "stdout",
     "output_type": "stream",
     "text": [
      "            Id       EmployeeName  \\\n",
      "0            1     NATHANIEL FORD   \n",
      "1            2       GARY JIMENEZ   \n",
      "2            3     ALBERT PARDINI   \n",
      "3            4  CHRISTOPHER CHONG   \n",
      "4            5    PATRICK GARDNER   \n",
      "...        ...                ...   \n",
      "148649  148650      Roy I Tillery   \n",
      "148650  148651       Not provided   \n",
      "148651  148652       Not provided   \n",
      "148652  148653       Not provided   \n",
      "148653  148654          Joe Lopez   \n",
      "\n",
      "                                              JobTitle       BasePay  \\\n",
      "0       GENERAL MANAGER-METROPOLITAN TRANSIT AUTHORITY     167411.18   \n",
      "1                      CAPTAIN III (POLICE DEPARTMENT)     155966.02   \n",
      "2                      CAPTAIN III (POLICE DEPARTMENT)     212739.13   \n",
      "3                 WIRE ROPE CABLE MAINTENANCE MECHANIC       77916.0   \n",
      "4         DEPUTY CHIEF OF DEPARTMENT,(FIRE DEPARTMENT)      134401.6   \n",
      "...                                                ...           ...   \n",
      "148649                                       Custodian          0.00   \n",
      "148650                                    Not provided  Not Provided   \n",
      "148651                                    Not provided  Not Provided   \n",
      "148652                                    Not provided  Not Provided   \n",
      "148653                      Counselor, Log Cabin Ranch          0.00   \n",
      "\n",
      "         OvertimePay      OtherPay      Benefits   TotalPay  TotalPayBenefits  \\\n",
      "0                0.0     400184.25           NaN  567595.43         567595.43   \n",
      "1          245131.88     137811.38           NaN  538909.28         538909.28   \n",
      "2          106088.18       16452.6           NaN  335279.91         335279.91   \n",
      "3           56120.71      198306.9           NaN  332343.61         332343.61   \n",
      "4             9737.0     182234.59           NaN  326373.19         326373.19   \n",
      "...              ...           ...           ...        ...               ...   \n",
      "148649          0.00          0.00          0.00       0.00              0.00   \n",
      "148650  Not Provided  Not Provided  Not Provided       0.00              0.00   \n",
      "148651  Not Provided  Not Provided  Not Provided       0.00              0.00   \n",
      "148652  Not Provided  Not Provided  Not Provided       0.00              0.00   \n",
      "148653          0.00       -618.13          0.00    -618.13           -618.13   \n",
      "\n",
      "        Year  Notes         Agency Status  \n",
      "0       2011    NaN  San Francisco    NaN  \n",
      "1       2011    NaN  San Francisco    NaN  \n",
      "2       2011    NaN  San Francisco    NaN  \n",
      "3       2011    NaN  San Francisco    NaN  \n",
      "4       2011    NaN  San Francisco    NaN  \n",
      "...      ...    ...            ...    ...  \n",
      "148649  2014    NaN  San Francisco     PT  \n",
      "148650  2014    NaN  San Francisco    NaN  \n",
      "148651  2014    NaN  San Francisco    NaN  \n",
      "148652  2014    NaN  San Francisco    NaN  \n",
      "148653  2014    NaN  San Francisco     PT  \n",
      "\n",
      "[148654 rows x 13 columns]\n"
     ]
    },
    {
     "name": "stderr",
     "output_type": "stream",
     "text": [
      "/tmp/ipykernel_18/1573859855.py:1: DtypeWarning: Columns (3,4,5,6,12) have mixed types. Specify dtype option on import or set low_memory=False.\n",
      "  data = pd.read_csv(\"/kaggle/input/sf-salaries/Salaries.csv\")\n"
     ]
    }
   ],
   "source": [
    "data = pd.read_csv(\"/kaggle/input/sf-salaries/Salaries.csv\")\n",
    "print(data)"
   ]
  },
  {
   "cell_type": "code",
   "execution_count": 3,
   "id": "ca152c9d",
   "metadata": {
    "execution": {
     "iopub.execute_input": "2024-04-30T10:22:49.736049Z",
     "iopub.status.busy": "2024-04-30T10:22:49.735678Z",
     "iopub.status.idle": "2024-04-30T10:22:49.745036Z",
     "shell.execute_reply": "2024-04-30T10:22:49.744232Z"
    },
    "papermill": {
     "duration": 0.020203,
     "end_time": "2024-04-30T10:22:49.746707",
     "exception": false,
     "start_time": "2024-04-30T10:22:49.726504",
     "status": "completed"
    },
    "tags": []
   },
   "outputs": [
    {
     "name": "stdout",
     "output_type": "stream",
     "text": [
      "   Id        EmployeeName                                        JobTitle  \\\n",
      "0   1      NATHANIEL FORD  GENERAL MANAGER-METROPOLITAN TRANSIT AUTHORITY   \n",
      "1   2        GARY JIMENEZ                 CAPTAIN III (POLICE DEPARTMENT)   \n",
      "2   3      ALBERT PARDINI                 CAPTAIN III (POLICE DEPARTMENT)   \n",
      "3   4   CHRISTOPHER CHONG            WIRE ROPE CABLE MAINTENANCE MECHANIC   \n",
      "4   5     PATRICK GARDNER    DEPUTY CHIEF OF DEPARTMENT,(FIRE DEPARTMENT)   \n",
      "5   6      DAVID SULLIVAN                       ASSISTANT DEPUTY CHIEF II   \n",
      "6   7           ALSON LEE              BATTALION CHIEF, (FIRE DEPARTMENT)   \n",
      "7   8       DAVID KUSHNER                  DEPUTY DIRECTOR OF INVESTMENTS   \n",
      "8   9      MICHAEL MORRIS              BATTALION CHIEF, (FIRE DEPARTMENT)   \n",
      "9  10  JOANNE HAYES-WHITE          CHIEF OF DEPARTMENT, (FIRE DEPARTMENT)   \n",
      "\n",
      "     BasePay OvertimePay   OtherPay Benefits   TotalPay  TotalPayBenefits  \\\n",
      "0  167411.18         0.0  400184.25      NaN  567595.43         567595.43   \n",
      "1  155966.02   245131.88  137811.38      NaN  538909.28         538909.28   \n",
      "2  212739.13   106088.18    16452.6      NaN  335279.91         335279.91   \n",
      "3    77916.0    56120.71   198306.9      NaN  332343.61         332343.61   \n",
      "4   134401.6      9737.0  182234.59      NaN  326373.19         326373.19   \n",
      "5   118602.0      8601.0  189082.74      NaN  316285.74         316285.74   \n",
      "6   92492.01     89062.9  134426.14      NaN  315981.05         315981.05   \n",
      "7  256576.96         0.0    51322.5      NaN  307899.46         307899.46   \n",
      "8  176932.64    86362.68   40132.23      NaN  303427.55         303427.55   \n",
      "9   285262.0         0.0   17115.73      NaN  302377.73         302377.73   \n",
      "\n",
      "   Year  Notes         Agency Status  \n",
      "0  2011    NaN  San Francisco    NaN  \n",
      "1  2011    NaN  San Francisco    NaN  \n",
      "2  2011    NaN  San Francisco    NaN  \n",
      "3  2011    NaN  San Francisco    NaN  \n",
      "4  2011    NaN  San Francisco    NaN  \n",
      "5  2011    NaN  San Francisco    NaN  \n",
      "6  2011    NaN  San Francisco    NaN  \n",
      "7  2011    NaN  San Francisco    NaN  \n",
      "8  2011    NaN  San Francisco    NaN  \n",
      "9  2011    NaN  San Francisco    NaN  \n"
     ]
    }
   ],
   "source": [
    "print(data.head(10))"
   ]
  },
  {
   "cell_type": "code",
   "execution_count": 4,
   "id": "f09763cc",
   "metadata": {
    "execution": {
     "iopub.execute_input": "2024-04-30T10:22:49.765301Z",
     "iopub.status.busy": "2024-04-30T10:22:49.764928Z",
     "iopub.status.idle": "2024-04-30T10:22:49.775305Z",
     "shell.execute_reply": "2024-04-30T10:22:49.774429Z"
    },
    "papermill": {
     "duration": 0.022388,
     "end_time": "2024-04-30T10:22:49.777209",
     "exception": false,
     "start_time": "2024-04-30T10:22:49.754821",
     "status": "completed"
    },
    "tags": []
   },
   "outputs": [
    {
     "name": "stdout",
     "output_type": "stream",
     "text": [
      "            Id      EmployeeName                      JobTitle       BasePay  \\\n",
      "148644  148645      Randy D Winn  Stationary Eng, Sewage Plant          0.00   \n",
      "148645  148646  Carolyn A Wilson     Human Services Technician          0.00   \n",
      "148646  148647      Not provided                  Not provided  Not Provided   \n",
      "148647  148648    Joann Anderson   Communications Dispatcher 2          0.00   \n",
      "148648  148649       Leon Walker                     Custodian          0.00   \n",
      "148649  148650     Roy I Tillery                     Custodian          0.00   \n",
      "148650  148651      Not provided                  Not provided  Not Provided   \n",
      "148651  148652      Not provided                  Not provided  Not Provided   \n",
      "148652  148653      Not provided                  Not provided  Not Provided   \n",
      "148653  148654         Joe Lopez    Counselor, Log Cabin Ranch          0.00   \n",
      "\n",
      "         OvertimePay      OtherPay      Benefits  TotalPay  TotalPayBenefits  \\\n",
      "148644          0.00          0.00          0.00      0.00              0.00   \n",
      "148645          0.00          0.00          0.00      0.00              0.00   \n",
      "148646  Not Provided  Not Provided  Not Provided      0.00              0.00   \n",
      "148647          0.00          0.00          0.00      0.00              0.00   \n",
      "148648          0.00          0.00          0.00      0.00              0.00   \n",
      "148649          0.00          0.00          0.00      0.00              0.00   \n",
      "148650  Not Provided  Not Provided  Not Provided      0.00              0.00   \n",
      "148651  Not Provided  Not Provided  Not Provided      0.00              0.00   \n",
      "148652  Not Provided  Not Provided  Not Provided      0.00              0.00   \n",
      "148653          0.00       -618.13          0.00   -618.13           -618.13   \n",
      "\n",
      "        Year  Notes         Agency Status  \n",
      "148644  2014    NaN  San Francisco     PT  \n",
      "148645  2014    NaN  San Francisco     PT  \n",
      "148646  2014    NaN  San Francisco    NaN  \n",
      "148647  2014    NaN  San Francisco     PT  \n",
      "148648  2014    NaN  San Francisco     PT  \n",
      "148649  2014    NaN  San Francisco     PT  \n",
      "148650  2014    NaN  San Francisco    NaN  \n",
      "148651  2014    NaN  San Francisco    NaN  \n",
      "148652  2014    NaN  San Francisco    NaN  \n",
      "148653  2014    NaN  San Francisco     PT  \n"
     ]
    }
   ],
   "source": [
    "print(data.tail(10))"
   ]
  },
  {
   "cell_type": "code",
   "execution_count": 5,
   "id": "30c6e083",
   "metadata": {
    "execution": {
     "iopub.execute_input": "2024-04-30T10:22:49.795036Z",
     "iopub.status.busy": "2024-04-30T10:22:49.794684Z",
     "iopub.status.idle": "2024-04-30T10:22:49.800099Z",
     "shell.execute_reply": "2024-04-30T10:22:49.798888Z"
    },
    "papermill": {
     "duration": 0.017263,
     "end_time": "2024-04-30T10:22:49.802592",
     "exception": false,
     "start_time": "2024-04-30T10:22:49.785329",
     "status": "completed"
    },
    "tags": []
   },
   "outputs": [
    {
     "name": "stdout",
     "output_type": "stream",
     "text": [
      "(148654, 13)\n"
     ]
    }
   ],
   "source": [
    "print(data.shape)"
   ]
  },
  {
   "cell_type": "code",
   "execution_count": 6,
   "id": "dba84202",
   "metadata": {
    "execution": {
     "iopub.execute_input": "2024-04-30T10:22:49.821473Z",
     "iopub.status.busy": "2024-04-30T10:22:49.821123Z",
     "iopub.status.idle": "2024-04-30T10:22:49.825451Z",
     "shell.execute_reply": "2024-04-30T10:22:49.824733Z"
    },
    "papermill": {
     "duration": 0.015892,
     "end_time": "2024-04-30T10:22:49.827414",
     "exception": false,
     "start_time": "2024-04-30T10:22:49.811522",
     "status": "completed"
    },
    "tags": []
   },
   "outputs": [
    {
     "name": "stdout",
     "output_type": "stream",
     "text": [
      "148654\n",
      "13\n"
     ]
    }
   ],
   "source": [
    "print(data.shape[0])\n",
    "print(data.shape[1])"
   ]
  },
  {
   "cell_type": "code",
   "execution_count": 7,
   "id": "e30171b4",
   "metadata": {
    "execution": {
     "iopub.execute_input": "2024-04-30T10:22:49.845823Z",
     "iopub.status.busy": "2024-04-30T10:22:49.845404Z",
     "iopub.status.idle": "2024-04-30T10:22:49.850857Z",
     "shell.execute_reply": "2024-04-30T10:22:49.850032Z"
    },
    "papermill": {
     "duration": 0.016386,
     "end_time": "2024-04-30T10:22:49.852528",
     "exception": false,
     "start_time": "2024-04-30T10:22:49.836142",
     "status": "completed"
    },
    "tags": []
   },
   "outputs": [
    {
     "name": "stdout",
     "output_type": "stream",
     "text": [
      "Id                    int64\n",
      "EmployeeName         object\n",
      "JobTitle             object\n",
      "BasePay              object\n",
      "OvertimePay          object\n",
      "OtherPay             object\n",
      "Benefits             object\n",
      "TotalPay            float64\n",
      "TotalPayBenefits    float64\n",
      "Year                  int64\n",
      "Notes               float64\n",
      "Agency               object\n",
      "Status               object\n",
      "dtype: object\n"
     ]
    }
   ],
   "source": [
    "print(data.dtypes)"
   ]
  },
  {
   "cell_type": "code",
   "execution_count": 8,
   "id": "f9348954",
   "metadata": {
    "execution": {
     "iopub.execute_input": "2024-04-30T10:22:49.871214Z",
     "iopub.status.busy": "2024-04-30T10:22:49.870599Z",
     "iopub.status.idle": "2024-04-30T10:22:49.927880Z",
     "shell.execute_reply": "2024-04-30T10:22:49.926164Z"
    },
    "papermill": {
     "duration": 0.068606,
     "end_time": "2024-04-30T10:22:49.930002",
     "exception": false,
     "start_time": "2024-04-30T10:22:49.861396",
     "status": "completed"
    },
    "tags": []
   },
   "outputs": [
    {
     "name": "stdout",
     "output_type": "stream",
     "text": [
      "<class 'pandas.core.frame.DataFrame'>\n",
      "RangeIndex: 148654 entries, 0 to 148653\n",
      "Data columns (total 13 columns):\n",
      " #   Column            Non-Null Count   Dtype  \n",
      "---  ------            --------------   -----  \n",
      " 0   Id                148654 non-null  int64  \n",
      " 1   EmployeeName      148654 non-null  object \n",
      " 2   JobTitle          148654 non-null  object \n",
      " 3   BasePay           148049 non-null  object \n",
      " 4   OvertimePay       148654 non-null  object \n",
      " 5   OtherPay          148654 non-null  object \n",
      " 6   Benefits          112495 non-null  object \n",
      " 7   TotalPay          148654 non-null  float64\n",
      " 8   TotalPayBenefits  148654 non-null  float64\n",
      " 9   Year              148654 non-null  int64  \n",
      " 10  Notes             0 non-null       float64\n",
      " 11  Agency            148654 non-null  object \n",
      " 12  Status            38119 non-null   object \n",
      "dtypes: float64(3), int64(2), object(8)\n",
      "memory usage: 14.7+ MB\n",
      "None\n"
     ]
    }
   ],
   "source": [
    "print(data.info())"
   ]
  },
  {
   "cell_type": "code",
   "execution_count": 9,
   "id": "6103b9cc",
   "metadata": {
    "execution": {
     "iopub.execute_input": "2024-04-30T10:22:49.948381Z",
     "iopub.status.busy": "2024-04-30T10:22:49.948028Z",
     "iopub.status.idle": "2024-04-30T10:22:49.952138Z",
     "shell.execute_reply": "2024-04-30T10:22:49.951391Z"
    },
    "papermill": {
     "duration": 0.015433,
     "end_time": "2024-04-30T10:22:49.953886",
     "exception": false,
     "start_time": "2024-04-30T10:22:49.938453",
     "status": "completed"
    },
    "tags": []
   },
   "outputs": [
    {
     "name": "stdout",
     "output_type": "stream",
     "text": [
      "148654\n"
     ]
    }
   ],
   "source": [
    "print(len(data))"
   ]
  },
  {
   "cell_type": "code",
   "execution_count": 10,
   "id": "e31fa2ca",
   "metadata": {
    "execution": {
     "iopub.execute_input": "2024-04-30T10:22:49.972128Z",
     "iopub.status.busy": "2024-04-30T10:22:49.971820Z",
     "iopub.status.idle": "2024-04-30T10:22:49.976610Z",
     "shell.execute_reply": "2024-04-30T10:22:49.975764Z"
    },
    "papermill": {
     "duration": 0.016114,
     "end_time": "2024-04-30T10:22:49.978348",
     "exception": false,
     "start_time": "2024-04-30T10:22:49.962234",
     "status": "completed"
    },
    "tags": []
   },
   "outputs": [
    {
     "name": "stdout",
     "output_type": "stream",
     "text": [
      "13\n"
     ]
    }
   ],
   "source": [
    "print(len(data.columns))"
   ]
  },
  {
   "cell_type": "code",
   "execution_count": 11,
   "id": "a66b226c",
   "metadata": {
    "execution": {
     "iopub.execute_input": "2024-04-30T10:22:49.997198Z",
     "iopub.status.busy": "2024-04-30T10:22:49.996849Z",
     "iopub.status.idle": "2024-04-30T10:22:50.040621Z",
     "shell.execute_reply": "2024-04-30T10:22:50.039737Z"
    },
    "papermill": {
     "duration": 0.05557,
     "end_time": "2024-04-30T10:22:50.042472",
     "exception": false,
     "start_time": "2024-04-30T10:22:49.986902",
     "status": "completed"
    },
    "tags": []
   },
   "outputs": [
    {
     "name": "stdout",
     "output_type": "stream",
     "text": [
      "           Id  EmployeeName  JobTitle  BasePay  OvertimePay  OtherPay  \\\n",
      "0       False         False     False    False        False     False   \n",
      "1       False         False     False    False        False     False   \n",
      "2       False         False     False    False        False     False   \n",
      "3       False         False     False    False        False     False   \n",
      "4       False         False     False    False        False     False   \n",
      "...       ...           ...       ...      ...          ...       ...   \n",
      "148649  False         False     False    False        False     False   \n",
      "148650  False         False     False    False        False     False   \n",
      "148651  False         False     False    False        False     False   \n",
      "148652  False         False     False    False        False     False   \n",
      "148653  False         False     False    False        False     False   \n",
      "\n",
      "        Benefits  TotalPay  TotalPayBenefits   Year  Notes  Agency  Status  \n",
      "0           True     False             False  False   True   False    True  \n",
      "1           True     False             False  False   True   False    True  \n",
      "2           True     False             False  False   True   False    True  \n",
      "3           True     False             False  False   True   False    True  \n",
      "4           True     False             False  False   True   False    True  \n",
      "...          ...       ...               ...    ...    ...     ...     ...  \n",
      "148649     False     False             False  False   True   False   False  \n",
      "148650     False     False             False  False   True   False    True  \n",
      "148651     False     False             False  False   True   False    True  \n",
      "148652     False     False             False  False   True   False    True  \n",
      "148653     False     False             False  False   True   False   False  \n",
      "\n",
      "[148654 rows x 13 columns]\n"
     ]
    }
   ],
   "source": [
    "print(data.isnull())"
   ]
  },
  {
   "cell_type": "code",
   "execution_count": 12,
   "id": "10d5b1dd",
   "metadata": {
    "execution": {
     "iopub.execute_input": "2024-04-30T10:22:50.061474Z",
     "iopub.status.busy": "2024-04-30T10:22:50.061127Z",
     "iopub.status.idle": "2024-04-30T10:22:50.099305Z",
     "shell.execute_reply": "2024-04-30T10:22:50.098455Z"
    },
    "papermill": {
     "duration": 0.04982,
     "end_time": "2024-04-30T10:22:50.101166",
     "exception": false,
     "start_time": "2024-04-30T10:22:50.051346",
     "status": "completed"
    },
    "tags": []
   },
   "outputs": [
    {
     "name": "stdout",
     "output_type": "stream",
     "text": [
      "Id                       0\n",
      "EmployeeName             0\n",
      "JobTitle                 0\n",
      "BasePay                605\n",
      "OvertimePay              0\n",
      "OtherPay                 0\n",
      "Benefits             36159\n",
      "TotalPay                 0\n",
      "TotalPayBenefits         0\n",
      "Year                     0\n",
      "Notes               148654\n",
      "Agency                   0\n",
      "Status              110535\n",
      "dtype: int64\n"
     ]
    }
   ],
   "source": [
    "print(data.isnull().sum())"
   ]
  },
  {
   "cell_type": "code",
   "execution_count": 13,
   "id": "9e4d8da8",
   "metadata": {
    "execution": {
     "iopub.execute_input": "2024-04-30T10:22:50.120264Z",
     "iopub.status.busy": "2024-04-30T10:22:50.119944Z",
     "iopub.status.idle": "2024-04-30T10:22:50.142007Z",
     "shell.execute_reply": "2024-04-30T10:22:50.141234Z"
    },
    "papermill": {
     "duration": 0.033726,
     "end_time": "2024-04-30T10:22:50.143795",
     "exception": false,
     "start_time": "2024-04-30T10:22:50.110069",
     "status": "completed"
    },
    "tags": []
   },
   "outputs": [
    {
     "name": "stdout",
     "output_type": "stream",
     "text": [
      "             EmployeeName                                        JobTitle  \\\n",
      "0          NATHANIEL FORD  GENERAL MANAGER-METROPOLITAN TRANSIT AUTHORITY   \n",
      "1            GARY JIMENEZ                 CAPTAIN III (POLICE DEPARTMENT)   \n",
      "2          ALBERT PARDINI                 CAPTAIN III (POLICE DEPARTMENT)   \n",
      "3       CHRISTOPHER CHONG            WIRE ROPE CABLE MAINTENANCE MECHANIC   \n",
      "4         PATRICK GARDNER    DEPUTY CHIEF OF DEPARTMENT,(FIRE DEPARTMENT)   \n",
      "...                   ...                                             ...   \n",
      "148649      Roy I Tillery                                       Custodian   \n",
      "148650       Not provided                                    Not provided   \n",
      "148651       Not provided                                    Not provided   \n",
      "148652       Not provided                                    Not provided   \n",
      "148653          Joe Lopez                      Counselor, Log Cabin Ranch   \n",
      "\n",
      "             BasePay   OvertimePay      OtherPay      Benefits   TotalPay  \\\n",
      "0          167411.18           0.0     400184.25           NaN  567595.43   \n",
      "1          155966.02     245131.88     137811.38           NaN  538909.28   \n",
      "2          212739.13     106088.18       16452.6           NaN  335279.91   \n",
      "3            77916.0      56120.71      198306.9           NaN  332343.61   \n",
      "4           134401.6        9737.0     182234.59           NaN  326373.19   \n",
      "...              ...           ...           ...           ...        ...   \n",
      "148649          0.00          0.00          0.00          0.00       0.00   \n",
      "148650  Not Provided  Not Provided  Not Provided  Not Provided       0.00   \n",
      "148651  Not Provided  Not Provided  Not Provided  Not Provided       0.00   \n",
      "148652  Not Provided  Not Provided  Not Provided  Not Provided       0.00   \n",
      "148653          0.00          0.00       -618.13          0.00    -618.13   \n",
      "\n",
      "        TotalPayBenefits  Year  \n",
      "0              567595.43  2011  \n",
      "1              538909.28  2011  \n",
      "2              335279.91  2011  \n",
      "3              332343.61  2011  \n",
      "4              326373.19  2011  \n",
      "...                  ...   ...  \n",
      "148649              0.00  2014  \n",
      "148650              0.00  2014  \n",
      "148651              0.00  2014  \n",
      "148652              0.00  2014  \n",
      "148653           -618.13  2014  \n",
      "\n",
      "[148654 rows x 9 columns]\n"
     ]
    }
   ],
   "source": [
    "print(data.drop(['Id', 'Notes', 'Agency', 'Status'], axis=1))"
   ]
  },
  {
   "cell_type": "code",
   "execution_count": 14,
   "id": "5e74a932",
   "metadata": {
    "execution": {
     "iopub.execute_input": "2024-04-30T10:22:50.163012Z",
     "iopub.status.busy": "2024-04-30T10:22:50.162615Z",
     "iopub.status.idle": "2024-04-30T10:22:50.199400Z",
     "shell.execute_reply": "2024-04-30T10:22:50.198470Z"
    },
    "papermill": {
     "duration": 0.0485,
     "end_time": "2024-04-30T10:22:50.201092",
     "exception": false,
     "start_time": "2024-04-30T10:22:50.152592",
     "status": "completed"
    },
    "tags": []
   },
   "outputs": [
    {
     "data": {
      "text/html": [
       "<div>\n",
       "<style scoped>\n",
       "    .dataframe tbody tr th:only-of-type {\n",
       "        vertical-align: middle;\n",
       "    }\n",
       "\n",
       "    .dataframe tbody tr th {\n",
       "        vertical-align: top;\n",
       "    }\n",
       "\n",
       "    .dataframe thead th {\n",
       "        text-align: right;\n",
       "    }\n",
       "</style>\n",
       "<table border=\"1\" class=\"dataframe\">\n",
       "  <thead>\n",
       "    <tr style=\"text-align: right;\">\n",
       "      <th></th>\n",
       "      <th>Id</th>\n",
       "      <th>TotalPay</th>\n",
       "      <th>TotalPayBenefits</th>\n",
       "      <th>Year</th>\n",
       "      <th>Notes</th>\n",
       "    </tr>\n",
       "  </thead>\n",
       "  <tbody>\n",
       "    <tr>\n",
       "      <th>count</th>\n",
       "      <td>148654.000000</td>\n",
       "      <td>148654.000000</td>\n",
       "      <td>148654.000000</td>\n",
       "      <td>148654.000000</td>\n",
       "      <td>0.0</td>\n",
       "    </tr>\n",
       "    <tr>\n",
       "      <th>mean</th>\n",
       "      <td>74327.500000</td>\n",
       "      <td>74768.321972</td>\n",
       "      <td>93692.554811</td>\n",
       "      <td>2012.522643</td>\n",
       "      <td>NaN</td>\n",
       "    </tr>\n",
       "    <tr>\n",
       "      <th>std</th>\n",
       "      <td>42912.857795</td>\n",
       "      <td>50517.005274</td>\n",
       "      <td>62793.533483</td>\n",
       "      <td>1.117538</td>\n",
       "      <td>NaN</td>\n",
       "    </tr>\n",
       "    <tr>\n",
       "      <th>min</th>\n",
       "      <td>1.000000</td>\n",
       "      <td>-618.130000</td>\n",
       "      <td>-618.130000</td>\n",
       "      <td>2011.000000</td>\n",
       "      <td>NaN</td>\n",
       "    </tr>\n",
       "    <tr>\n",
       "      <th>25%</th>\n",
       "      <td>37164.250000</td>\n",
       "      <td>36168.995000</td>\n",
       "      <td>44065.650000</td>\n",
       "      <td>2012.000000</td>\n",
       "      <td>NaN</td>\n",
       "    </tr>\n",
       "    <tr>\n",
       "      <th>50%</th>\n",
       "      <td>74327.500000</td>\n",
       "      <td>71426.610000</td>\n",
       "      <td>92404.090000</td>\n",
       "      <td>2013.000000</td>\n",
       "      <td>NaN</td>\n",
       "    </tr>\n",
       "    <tr>\n",
       "      <th>75%</th>\n",
       "      <td>111490.750000</td>\n",
       "      <td>105839.135000</td>\n",
       "      <td>132876.450000</td>\n",
       "      <td>2014.000000</td>\n",
       "      <td>NaN</td>\n",
       "    </tr>\n",
       "    <tr>\n",
       "      <th>max</th>\n",
       "      <td>148654.000000</td>\n",
       "      <td>567595.430000</td>\n",
       "      <td>567595.430000</td>\n",
       "      <td>2014.000000</td>\n",
       "      <td>NaN</td>\n",
       "    </tr>\n",
       "  </tbody>\n",
       "</table>\n",
       "</div>"
      ],
      "text/plain": [
       "                  Id       TotalPay  TotalPayBenefits           Year  Notes\n",
       "count  148654.000000  148654.000000     148654.000000  148654.000000    0.0\n",
       "mean    74327.500000   74768.321972      93692.554811    2012.522643    NaN\n",
       "std     42912.857795   50517.005274      62793.533483       1.117538    NaN\n",
       "min         1.000000    -618.130000       -618.130000    2011.000000    NaN\n",
       "25%     37164.250000   36168.995000      44065.650000    2012.000000    NaN\n",
       "50%     74327.500000   71426.610000      92404.090000    2013.000000    NaN\n",
       "75%    111490.750000  105839.135000     132876.450000    2014.000000    NaN\n",
       "max    148654.000000  567595.430000     567595.430000    2014.000000    NaN"
      ]
     },
     "execution_count": 14,
     "metadata": {},
     "output_type": "execute_result"
    }
   ],
   "source": [
    "data.describe()"
   ]
  },
  {
   "cell_type": "code",
   "execution_count": 15,
   "id": "d9175af9",
   "metadata": {
    "execution": {
     "iopub.execute_input": "2024-04-30T10:22:50.220567Z",
     "iopub.status.busy": "2024-04-30T10:22:50.220251Z",
     "iopub.status.idle": "2024-04-30T10:22:50.574975Z",
     "shell.execute_reply": "2024-04-30T10:22:50.573670Z"
    },
    "papermill": {
     "duration": 0.366764,
     "end_time": "2024-04-30T10:22:50.576877",
     "exception": false,
     "start_time": "2024-04-30T10:22:50.210113",
     "status": "completed"
    },
    "tags": []
   },
   "outputs": [
    {
     "data": {
      "text/html": [
       "<div>\n",
       "<style scoped>\n",
       "    .dataframe tbody tr th:only-of-type {\n",
       "        vertical-align: middle;\n",
       "    }\n",
       "\n",
       "    .dataframe tbody tr th {\n",
       "        vertical-align: top;\n",
       "    }\n",
       "\n",
       "    .dataframe thead th {\n",
       "        text-align: right;\n",
       "    }\n",
       "</style>\n",
       "<table border=\"1\" class=\"dataframe\">\n",
       "  <thead>\n",
       "    <tr style=\"text-align: right;\">\n",
       "      <th></th>\n",
       "      <th>Id</th>\n",
       "      <th>EmployeeName</th>\n",
       "      <th>JobTitle</th>\n",
       "      <th>BasePay</th>\n",
       "      <th>OvertimePay</th>\n",
       "      <th>OtherPay</th>\n",
       "      <th>Benefits</th>\n",
       "      <th>TotalPay</th>\n",
       "      <th>TotalPayBenefits</th>\n",
       "      <th>Year</th>\n",
       "      <th>Notes</th>\n",
       "      <th>Agency</th>\n",
       "      <th>Status</th>\n",
       "    </tr>\n",
       "  </thead>\n",
       "  <tbody>\n",
       "    <tr>\n",
       "      <th>count</th>\n",
       "      <td>148654.000000</td>\n",
       "      <td>148654</td>\n",
       "      <td>148654</td>\n",
       "      <td>148049.0</td>\n",
       "      <td>148654.0</td>\n",
       "      <td>148654.0</td>\n",
       "      <td>112495.0</td>\n",
       "      <td>148654.000000</td>\n",
       "      <td>148654.000000</td>\n",
       "      <td>148654.000000</td>\n",
       "      <td>0.0</td>\n",
       "      <td>148654</td>\n",
       "      <td>38119</td>\n",
       "    </tr>\n",
       "    <tr>\n",
       "      <th>unique</th>\n",
       "      <td>NaN</td>\n",
       "      <td>110811</td>\n",
       "      <td>2159</td>\n",
       "      <td>109900.0</td>\n",
       "      <td>66555.0</td>\n",
       "      <td>84968.0</td>\n",
       "      <td>99635.0</td>\n",
       "      <td>NaN</td>\n",
       "      <td>NaN</td>\n",
       "      <td>NaN</td>\n",
       "      <td>NaN</td>\n",
       "      <td>1</td>\n",
       "      <td>2</td>\n",
       "    </tr>\n",
       "    <tr>\n",
       "      <th>top</th>\n",
       "      <td>NaN</td>\n",
       "      <td>Kevin Lee</td>\n",
       "      <td>Transit Operator</td>\n",
       "      <td>0.0</td>\n",
       "      <td>0.0</td>\n",
       "      <td>0.0</td>\n",
       "      <td>0.0</td>\n",
       "      <td>NaN</td>\n",
       "      <td>NaN</td>\n",
       "      <td>NaN</td>\n",
       "      <td>NaN</td>\n",
       "      <td>San Francisco</td>\n",
       "      <td>FT</td>\n",
       "    </tr>\n",
       "    <tr>\n",
       "      <th>freq</th>\n",
       "      <td>NaN</td>\n",
       "      <td>13</td>\n",
       "      <td>7036</td>\n",
       "      <td>875.0</td>\n",
       "      <td>66103.0</td>\n",
       "      <td>35218.0</td>\n",
       "      <td>1053.0</td>\n",
       "      <td>NaN</td>\n",
       "      <td>NaN</td>\n",
       "      <td>NaN</td>\n",
       "      <td>NaN</td>\n",
       "      <td>148654</td>\n",
       "      <td>22334</td>\n",
       "    </tr>\n",
       "    <tr>\n",
       "      <th>mean</th>\n",
       "      <td>74327.500000</td>\n",
       "      <td>NaN</td>\n",
       "      <td>NaN</td>\n",
       "      <td>NaN</td>\n",
       "      <td>NaN</td>\n",
       "      <td>NaN</td>\n",
       "      <td>NaN</td>\n",
       "      <td>74768.321972</td>\n",
       "      <td>93692.554811</td>\n",
       "      <td>2012.522643</td>\n",
       "      <td>NaN</td>\n",
       "      <td>NaN</td>\n",
       "      <td>NaN</td>\n",
       "    </tr>\n",
       "    <tr>\n",
       "      <th>std</th>\n",
       "      <td>42912.857795</td>\n",
       "      <td>NaN</td>\n",
       "      <td>NaN</td>\n",
       "      <td>NaN</td>\n",
       "      <td>NaN</td>\n",
       "      <td>NaN</td>\n",
       "      <td>NaN</td>\n",
       "      <td>50517.005274</td>\n",
       "      <td>62793.533483</td>\n",
       "      <td>1.117538</td>\n",
       "      <td>NaN</td>\n",
       "      <td>NaN</td>\n",
       "      <td>NaN</td>\n",
       "    </tr>\n",
       "    <tr>\n",
       "      <th>min</th>\n",
       "      <td>1.000000</td>\n",
       "      <td>NaN</td>\n",
       "      <td>NaN</td>\n",
       "      <td>NaN</td>\n",
       "      <td>NaN</td>\n",
       "      <td>NaN</td>\n",
       "      <td>NaN</td>\n",
       "      <td>-618.130000</td>\n",
       "      <td>-618.130000</td>\n",
       "      <td>2011.000000</td>\n",
       "      <td>NaN</td>\n",
       "      <td>NaN</td>\n",
       "      <td>NaN</td>\n",
       "    </tr>\n",
       "    <tr>\n",
       "      <th>25%</th>\n",
       "      <td>37164.250000</td>\n",
       "      <td>NaN</td>\n",
       "      <td>NaN</td>\n",
       "      <td>NaN</td>\n",
       "      <td>NaN</td>\n",
       "      <td>NaN</td>\n",
       "      <td>NaN</td>\n",
       "      <td>36168.995000</td>\n",
       "      <td>44065.650000</td>\n",
       "      <td>2012.000000</td>\n",
       "      <td>NaN</td>\n",
       "      <td>NaN</td>\n",
       "      <td>NaN</td>\n",
       "    </tr>\n",
       "    <tr>\n",
       "      <th>50%</th>\n",
       "      <td>74327.500000</td>\n",
       "      <td>NaN</td>\n",
       "      <td>NaN</td>\n",
       "      <td>NaN</td>\n",
       "      <td>NaN</td>\n",
       "      <td>NaN</td>\n",
       "      <td>NaN</td>\n",
       "      <td>71426.610000</td>\n",
       "      <td>92404.090000</td>\n",
       "      <td>2013.000000</td>\n",
       "      <td>NaN</td>\n",
       "      <td>NaN</td>\n",
       "      <td>NaN</td>\n",
       "    </tr>\n",
       "    <tr>\n",
       "      <th>75%</th>\n",
       "      <td>111490.750000</td>\n",
       "      <td>NaN</td>\n",
       "      <td>NaN</td>\n",
       "      <td>NaN</td>\n",
       "      <td>NaN</td>\n",
       "      <td>NaN</td>\n",
       "      <td>NaN</td>\n",
       "      <td>105839.135000</td>\n",
       "      <td>132876.450000</td>\n",
       "      <td>2014.000000</td>\n",
       "      <td>NaN</td>\n",
       "      <td>NaN</td>\n",
       "      <td>NaN</td>\n",
       "    </tr>\n",
       "    <tr>\n",
       "      <th>max</th>\n",
       "      <td>148654.000000</td>\n",
       "      <td>NaN</td>\n",
       "      <td>NaN</td>\n",
       "      <td>NaN</td>\n",
       "      <td>NaN</td>\n",
       "      <td>NaN</td>\n",
       "      <td>NaN</td>\n",
       "      <td>567595.430000</td>\n",
       "      <td>567595.430000</td>\n",
       "      <td>2014.000000</td>\n",
       "      <td>NaN</td>\n",
       "      <td>NaN</td>\n",
       "      <td>NaN</td>\n",
       "    </tr>\n",
       "  </tbody>\n",
       "</table>\n",
       "</div>"
      ],
      "text/plain": [
       "                   Id EmployeeName          JobTitle   BasePay  OvertimePay  \\\n",
       "count   148654.000000       148654            148654  148049.0     148654.0   \n",
       "unique            NaN       110811              2159  109900.0      66555.0   \n",
       "top               NaN    Kevin Lee  Transit Operator       0.0          0.0   \n",
       "freq              NaN           13              7036     875.0      66103.0   \n",
       "mean     74327.500000          NaN               NaN       NaN          NaN   \n",
       "std      42912.857795          NaN               NaN       NaN          NaN   \n",
       "min          1.000000          NaN               NaN       NaN          NaN   \n",
       "25%      37164.250000          NaN               NaN       NaN          NaN   \n",
       "50%      74327.500000          NaN               NaN       NaN          NaN   \n",
       "75%     111490.750000          NaN               NaN       NaN          NaN   \n",
       "max     148654.000000          NaN               NaN       NaN          NaN   \n",
       "\n",
       "        OtherPay  Benefits       TotalPay  TotalPayBenefits           Year  \\\n",
       "count   148654.0  112495.0  148654.000000     148654.000000  148654.000000   \n",
       "unique   84968.0   99635.0            NaN               NaN            NaN   \n",
       "top          0.0       0.0            NaN               NaN            NaN   \n",
       "freq     35218.0    1053.0            NaN               NaN            NaN   \n",
       "mean         NaN       NaN   74768.321972      93692.554811    2012.522643   \n",
       "std          NaN       NaN   50517.005274      62793.533483       1.117538   \n",
       "min          NaN       NaN    -618.130000       -618.130000    2011.000000   \n",
       "25%          NaN       NaN   36168.995000      44065.650000    2012.000000   \n",
       "50%          NaN       NaN   71426.610000      92404.090000    2013.000000   \n",
       "75%          NaN       NaN  105839.135000     132876.450000    2014.000000   \n",
       "max          NaN       NaN  567595.430000     567595.430000    2014.000000   \n",
       "\n",
       "        Notes         Agency Status  \n",
       "count     0.0         148654  38119  \n",
       "unique    NaN              1      2  \n",
       "top       NaN  San Francisco     FT  \n",
       "freq      NaN         148654  22334  \n",
       "mean      NaN            NaN    NaN  \n",
       "std       NaN            NaN    NaN  \n",
       "min       NaN            NaN    NaN  \n",
       "25%       NaN            NaN    NaN  \n",
       "50%       NaN            NaN    NaN  \n",
       "75%       NaN            NaN    NaN  \n",
       "max       NaN            NaN    NaN  "
      ]
     },
     "execution_count": 15,
     "metadata": {},
     "output_type": "execute_result"
    }
   ],
   "source": [
    "data.describe(include='all')"
   ]
  },
  {
   "cell_type": "code",
   "execution_count": 16,
   "id": "46461647",
   "metadata": {
    "execution": {
     "iopub.execute_input": "2024-04-30T10:22:50.597093Z",
     "iopub.status.busy": "2024-04-30T10:22:50.596768Z",
     "iopub.status.idle": "2024-04-30T10:22:50.655085Z",
     "shell.execute_reply": "2024-04-30T10:22:50.654278Z"
    },
    "papermill": {
     "duration": 0.071038,
     "end_time": "2024-04-30T10:22:50.657197",
     "exception": false,
     "start_time": "2024-04-30T10:22:50.586159",
     "status": "completed"
    },
    "tags": []
   },
   "outputs": [
    {
     "data": {
      "text/plain": [
       "EmployeeName\n",
       "Kevin Lee       13\n",
       "Richard Lee     11\n",
       "Steven Lee      11\n",
       "William Wong    11\n",
       "Stanley Lee      9\n",
       "Name: count, dtype: int64"
      ]
     },
     "execution_count": 16,
     "metadata": {},
     "output_type": "execute_result"
    }
   ],
   "source": [
    "data['EmployeeName'].value_counts().head()"
   ]
  },
  {
   "cell_type": "code",
   "execution_count": 17,
   "id": "01ac66a9",
   "metadata": {
    "execution": {
     "iopub.execute_input": "2024-04-30T10:22:50.677647Z",
     "iopub.status.busy": "2024-04-30T10:22:50.677289Z",
     "iopub.status.idle": "2024-04-30T10:22:50.695179Z",
     "shell.execute_reply": "2024-04-30T10:22:50.694024Z"
    },
    "papermill": {
     "duration": 0.030178,
     "end_time": "2024-04-30T10:22:50.696940",
     "exception": false,
     "start_time": "2024-04-30T10:22:50.666762",
     "status": "completed"
    },
    "tags": []
   },
   "outputs": [
    {
     "data": {
      "text/plain": [
       "2159"
      ]
     },
     "execution_count": 17,
     "metadata": {},
     "output_type": "execute_result"
    }
   ],
   "source": [
    "data['JobTitle'].nunique()"
   ]
  },
  {
   "cell_type": "code",
   "execution_count": 18,
   "id": "0d247051",
   "metadata": {
    "execution": {
     "iopub.execute_input": "2024-04-30T10:22:50.717128Z",
     "iopub.status.busy": "2024-04-30T10:22:50.716791Z",
     "iopub.status.idle": "2024-04-30T10:22:50.797816Z",
     "shell.execute_reply": "2024-04-30T10:22:50.796734Z"
    },
    "papermill": {
     "duration": 0.093708,
     "end_time": "2024-04-30T10:22:50.800088",
     "exception": false,
     "start_time": "2024-04-30T10:22:50.706380",
     "status": "completed"
    },
    "tags": []
   },
   "outputs": [
    {
     "data": {
      "text/plain": [
       "552"
      ]
     },
     "execution_count": 18,
     "metadata": {},
     "output_type": "execute_result"
    }
   ],
   "source": [
    "len(data[data['JobTitle'].str.contains('CAPTAIN', case = False)])\n",
    "# This code will consider the lower and upper case both"
   ]
  },
  {
   "cell_type": "code",
   "execution_count": 19,
   "id": "dabfb0d6",
   "metadata": {
    "execution": {
     "iopub.execute_input": "2024-04-30T10:22:50.822354Z",
     "iopub.status.busy": "2024-04-30T10:22:50.821990Z",
     "iopub.status.idle": "2024-04-30T10:22:50.873379Z",
     "shell.execute_reply": "2024-04-30T10:22:50.872480Z"
    },
    "papermill": {
     "duration": 0.064819,
     "end_time": "2024-04-30T10:22:50.875038",
     "exception": false,
     "start_time": "2024-04-30T10:22:50.810219",
     "status": "completed"
    },
    "tags": []
   },
   "outputs": [
    {
     "data": {
      "text/plain": [
       "141"
      ]
     },
     "execution_count": 19,
     "metadata": {},
     "output_type": "execute_result"
    }
   ],
   "source": [
    "len(data[data['JobTitle'].str.contains('CAPTAIN')])"
   ]
  },
  {
   "cell_type": "code",
   "execution_count": 20,
   "id": "615495bb",
   "metadata": {
    "execution": {
     "iopub.execute_input": "2024-04-30T10:22:50.895738Z",
     "iopub.status.busy": "2024-04-30T10:22:50.895380Z",
     "iopub.status.idle": "2024-04-30T10:22:50.911593Z",
     "shell.execute_reply": "2024-04-30T10:22:50.910772Z"
    },
    "papermill": {
     "duration": 0.028725,
     "end_time": "2024-04-30T10:22:50.913325",
     "exception": false,
     "start_time": "2024-04-30T10:22:50.884600",
     "status": "completed"
    },
    "tags": []
   },
   "outputs": [
    {
     "data": {
      "text/plain": [
       "0"
      ]
     },
     "execution_count": 20,
     "metadata": {},
     "output_type": "execute_result"
    }
   ],
   "source": [
    "len(data[data['JobTitle']=='CAPTAIN '][['Id']])  \n",
    "## This code will search for the word CAPTAIN only. it will not consider the further string"
   ]
  },
  {
   "cell_type": "code",
   "execution_count": 21,
   "id": "bd17a603",
   "metadata": {
    "execution": {
     "iopub.execute_input": "2024-04-30T10:22:50.935365Z",
     "iopub.status.busy": "2024-04-30T10:22:50.935019Z",
     "iopub.status.idle": "2024-04-30T10:22:51.023391Z",
     "shell.execute_reply": "2024-04-30T10:22:51.022385Z"
    },
    "papermill": {
     "duration": 0.101799,
     "end_time": "2024-04-30T10:22:51.025219",
     "exception": false,
     "start_time": "2024-04-30T10:22:50.923420",
     "status": "completed"
    },
    "tags": []
   },
   "outputs": [
    {
     "data": {
      "text/plain": [
       "4            PATRICK GARDNER\n",
       "6                  ALSON LEE\n",
       "8             MICHAEL MORRIS\n",
       "9         JOANNE HAYES-WHITE\n",
       "10             ARTHUR KENNEY\n",
       "                 ...        \n",
       "145956      Kenneth C Farris\n",
       "147556         Edward A Dunn\n",
       "148021        Kari A Johnson\n",
       "148209          Sheryl K Lee\n",
       "148554       Lawrence F Gatt\n",
       "Name: EmployeeName, Length: 5879, dtype: object"
      ]
     },
     "execution_count": 21,
     "metadata": {},
     "output_type": "execute_result"
    }
   ],
   "source": [
    "data[data['JobTitle'].str.contains('FIRE', case= False)]['EmployeeName']"
   ]
  },
  {
   "cell_type": "code",
   "execution_count": 22,
   "id": "d596617a",
   "metadata": {
    "execution": {
     "iopub.execute_input": "2024-04-30T10:22:51.046432Z",
     "iopub.status.busy": "2024-04-30T10:22:51.046103Z",
     "iopub.status.idle": "2024-04-30T10:22:51.135672Z",
     "shell.execute_reply": "2024-04-30T10:22:51.134392Z"
    },
    "papermill": {
     "duration": 0.10213,
     "end_time": "2024-04-30T10:22:51.137404",
     "exception": false,
     "start_time": "2024-04-30T10:22:51.035274",
     "status": "completed"
    },
    "tags": []
   },
   "outputs": [
    {
     "data": {
      "text/plain": [
       "count     148049.0\n",
       "unique    109900.0\n",
       "top            0.0\n",
       "freq         875.0\n",
       "Name: BasePay, dtype: float64"
      ]
     },
     "execution_count": 22,
     "metadata": {},
     "output_type": "execute_result"
    }
   ],
   "source": [
    "data['BasePay'].describe()"
   ]
  },
  {
   "cell_type": "code",
   "execution_count": 23,
   "id": "4d25b9d7",
   "metadata": {
    "execution": {
     "iopub.execute_input": "2024-04-30T10:22:51.159849Z",
     "iopub.status.busy": "2024-04-30T10:22:51.158748Z",
     "iopub.status.idle": "2024-04-30T10:22:51.166179Z",
     "shell.execute_reply": "2024-04-30T10:22:51.165375Z"
    },
    "papermill": {
     "duration": 0.021063,
     "end_time": "2024-04-30T10:22:51.168451",
     "exception": false,
     "start_time": "2024-04-30T10:22:51.147388",
     "status": "completed"
    },
    "tags": []
   },
   "outputs": [
    {
     "data": {
      "text/plain": [
       "0            NATHANIEL FORD\n",
       "1              GARY JIMENEZ\n",
       "2            ALBERT PARDINI\n",
       "3         CHRISTOPHER CHONG\n",
       "4           PATRICK GARDNER\n",
       "                ...        \n",
       "148649        Roy I Tillery\n",
       "148650         Not provided\n",
       "148651         Not provided\n",
       "148652         Not provided\n",
       "148653            Joe Lopez\n",
       "Name: EmployeeName, Length: 148654, dtype: object"
      ]
     },
     "execution_count": 23,
     "metadata": {},
     "output_type": "execute_result"
    }
   ],
   "source": [
    "data['EmployeeName']"
   ]
  },
  {
   "cell_type": "code",
   "execution_count": 24,
   "id": "96fc4f8f",
   "metadata": {
    "execution": {
     "iopub.execute_input": "2024-04-30T10:22:51.191201Z",
     "iopub.status.busy": "2024-04-30T10:22:51.190842Z",
     "iopub.status.idle": "2024-04-30T10:22:51.212832Z",
     "shell.execute_reply": "2024-04-30T10:22:51.211695Z"
    },
    "papermill": {
     "duration": 0.035638,
     "end_time": "2024-04-30T10:22:51.214826",
     "exception": false,
     "start_time": "2024-04-30T10:22:51.179188",
     "status": "completed"
    },
    "tags": []
   },
   "outputs": [
    {
     "data": {
      "text/plain": [
       "0            NATHANIEL FORD\n",
       "1              GARY JIMENEZ\n",
       "2            ALBERT PARDINI\n",
       "3         CHRISTOPHER CHONG\n",
       "4           PATRICK GARDNER\n",
       "                ...        \n",
       "148649        Roy I Tillery\n",
       "148650                  NaN\n",
       "148651                  NaN\n",
       "148652                  NaN\n",
       "148653            Joe Lopez\n",
       "Name: EmployeeName, Length: 148654, dtype: object"
      ]
     },
     "execution_count": 24,
     "metadata": {},
     "output_type": "execute_result"
    }
   ],
   "source": [
    "data['EmployeeName'].replace({'Not provided': np.nan})"
   ]
  },
  {
   "cell_type": "code",
   "execution_count": 25,
   "id": "9b9155be",
   "metadata": {
    "execution": {
     "iopub.execute_input": "2024-04-30T10:22:51.238571Z",
     "iopub.status.busy": "2024-04-30T10:22:51.238213Z",
     "iopub.status.idle": "2024-04-30T10:22:51.296278Z",
     "shell.execute_reply": "2024-04-30T10:22:51.294821Z"
    },
    "papermill": {
     "duration": 0.07273,
     "end_time": "2024-04-30T10:22:51.298636",
     "exception": false,
     "start_time": "2024-04-30T10:22:51.225906",
     "status": "completed"
    },
    "tags": []
   },
   "outputs": [
    {
     "name": "stdout",
     "output_type": "stream",
     "text": [
      "0         False\n",
      "1         False\n",
      "2         False\n",
      "3         False\n",
      "4         False\n",
      "          ...  \n",
      "148649    False\n",
      "148650    False\n",
      "148651    False\n",
      "148652    False\n",
      "148653    False\n",
      "Length: 148654, dtype: bool\n"
     ]
    }
   ],
   "source": [
    "print(data.isnull().sum(axis =1)==5)"
   ]
  },
  {
   "cell_type": "code",
   "execution_count": 26,
   "id": "f77cc2a8",
   "metadata": {
    "execution": {
     "iopub.execute_input": "2024-04-30T10:22:51.322848Z",
     "iopub.status.busy": "2024-04-30T10:22:51.321603Z",
     "iopub.status.idle": "2024-04-30T10:22:51.388954Z",
     "shell.execute_reply": "2024-04-30T10:22:51.387589Z"
    },
    "papermill": {
     "duration": 0.082138,
     "end_time": "2024-04-30T10:22:51.391770",
     "exception": false,
     "start_time": "2024-04-30T10:22:51.309632",
     "status": "completed"
    },
    "tags": []
   },
   "outputs": [
    {
     "name": "stdout",
     "output_type": "stream",
     "text": [
      "            Id       EmployeeName  \\\n",
      "0            1     NATHANIEL FORD   \n",
      "1            2       GARY JIMENEZ   \n",
      "2            3     ALBERT PARDINI   \n",
      "3            4  CHRISTOPHER CHONG   \n",
      "4            5    PATRICK GARDNER   \n",
      "...        ...                ...   \n",
      "110526  110527     Arthur L Curry   \n",
      "110527  110528      Nereida  Vega   \n",
      "110528  110529   Timothy E Gibson   \n",
      "110529  110530     Mark E Laherty   \n",
      "110530  110531      David P Kucia   \n",
      "\n",
      "                                              JobTitle    BasePay OvertimePay  \\\n",
      "0       GENERAL MANAGER-METROPOLITAN TRANSIT AUTHORITY  167411.18         0.0   \n",
      "1                      CAPTAIN III (POLICE DEPARTMENT)  155966.02   245131.88   \n",
      "2                      CAPTAIN III (POLICE DEPARTMENT)  212739.13   106088.18   \n",
      "3                 WIRE ROPE CABLE MAINTENANCE MECHANIC    77916.0    56120.71   \n",
      "4         DEPUTY CHIEF OF DEPARTMENT,(FIRE DEPARTMENT)   134401.6      9737.0   \n",
      "...                                                ...        ...         ...   \n",
      "110526                         PS Aide Health Services        NaN         0.0   \n",
      "110527                                    Senior Clerk        NaN         0.0   \n",
      "110528                                Police Officer 3        NaN         0.0   \n",
      "110529                                Police Officer 3        NaN         0.0   \n",
      "110530                                Police Officer 3        NaN         0.0   \n",
      "\n",
      "         OtherPay Benefits   TotalPay  TotalPayBenefits  Year  Notes  \\\n",
      "0       400184.25      NaN  567595.43         567595.43  2011    NaN   \n",
      "1       137811.38      NaN  538909.28         538909.28  2011    NaN   \n",
      "2         16452.6      NaN  335279.91         335279.91  2011    NaN   \n",
      "3        198306.9      NaN  332343.61         332343.61  2011    NaN   \n",
      "4       182234.59      NaN  326373.19         326373.19  2011    NaN   \n",
      "...           ...      ...        ...               ...   ...    ...   \n",
      "110526      10.67      0.0      10.67             10.67  2013    NaN   \n",
      "110527       5.56      0.0       5.56              5.56  2013    NaN   \n",
      "110528        0.0    -2.73       0.00             -2.73  2013    NaN   \n",
      "110529        0.0     -8.2       0.00             -8.20  2013    NaN   \n",
      "110530        0.0   -33.89       0.00            -33.89  2013    NaN   \n",
      "\n",
      "               Agency Status  \n",
      "0       San Francisco    NaN  \n",
      "1       San Francisco    NaN  \n",
      "2       San Francisco    NaN  \n",
      "3       San Francisco    NaN  \n",
      "4       San Francisco    NaN  \n",
      "...               ...    ...  \n",
      "110526  San Francisco    NaN  \n",
      "110527  San Francisco    NaN  \n",
      "110528  San Francisco    NaN  \n",
      "110529  San Francisco    NaN  \n",
      "110530  San Francisco    NaN  \n",
      "\n",
      "[36764 rows x 13 columns]\n"
     ]
    }
   ],
   "source": [
    "print(data[data.isnull().sum(axis =1)==3])"
   ]
  },
  {
   "cell_type": "code",
   "execution_count": 27,
   "id": "8c15b826",
   "metadata": {
    "execution": {
     "iopub.execute_input": "2024-04-30T10:22:51.414814Z",
     "iopub.status.busy": "2024-04-30T10:22:51.414431Z",
     "iopub.status.idle": "2024-04-30T10:22:51.471678Z",
     "shell.execute_reply": "2024-04-30T10:22:51.470767Z"
    },
    "papermill": {
     "duration": 0.071165,
     "end_time": "2024-04-30T10:22:51.473640",
     "exception": false,
     "start_time": "2024-04-30T10:22:51.402475",
     "status": "completed"
    },
    "tags": []
   },
   "outputs": [
    {
     "data": {
      "text/plain": [
       "0         3\n",
       "1         3\n",
       "2         3\n",
       "3         3\n",
       "4         3\n",
       "         ..\n",
       "148649    1\n",
       "148650    2\n",
       "148651    2\n",
       "148652    2\n",
       "148653    1\n",
       "Length: 148654, dtype: int64"
      ]
     },
     "execution_count": 27,
     "metadata": {},
     "output_type": "execute_result"
    }
   ],
   "source": [
    "data.isnull().sum(axis =1)"
   ]
  },
  {
   "cell_type": "code",
   "execution_count": 28,
   "id": "e6e3b97d",
   "metadata": {
    "execution": {
     "iopub.execute_input": "2024-04-30T10:22:51.497286Z",
     "iopub.status.busy": "2024-04-30T10:22:51.496916Z",
     "iopub.status.idle": "2024-04-30T10:22:51.570527Z",
     "shell.execute_reply": "2024-04-30T10:22:51.569231Z"
    },
    "papermill": {
     "duration": 0.087733,
     "end_time": "2024-04-30T10:22:51.572299",
     "exception": false,
     "start_time": "2024-04-30T10:22:51.484566",
     "status": "completed"
    },
    "tags": []
   },
   "outputs": [
    {
     "data": {
      "text/html": [
       "<div>\n",
       "<style scoped>\n",
       "    .dataframe tbody tr th:only-of-type {\n",
       "        vertical-align: middle;\n",
       "    }\n",
       "\n",
       "    .dataframe tbody tr th {\n",
       "        vertical-align: top;\n",
       "    }\n",
       "\n",
       "    .dataframe thead th {\n",
       "        text-align: right;\n",
       "    }\n",
       "</style>\n",
       "<table border=\"1\" class=\"dataframe\">\n",
       "  <thead>\n",
       "    <tr style=\"text-align: right;\">\n",
       "      <th></th>\n",
       "      <th>Id</th>\n",
       "      <th>EmployeeName</th>\n",
       "      <th>JobTitle</th>\n",
       "      <th>BasePay</th>\n",
       "      <th>OvertimePay</th>\n",
       "      <th>OtherPay</th>\n",
       "      <th>Benefits</th>\n",
       "      <th>TotalPay</th>\n",
       "      <th>TotalPayBenefits</th>\n",
       "      <th>Year</th>\n",
       "      <th>Notes</th>\n",
       "      <th>Agency</th>\n",
       "      <th>Status</th>\n",
       "    </tr>\n",
       "  </thead>\n",
       "  <tbody>\n",
       "    <tr>\n",
       "      <th>0</th>\n",
       "      <td>1</td>\n",
       "      <td>NATHANIEL FORD</td>\n",
       "      <td>GENERAL MANAGER-METROPOLITAN TRANSIT AUTHORITY</td>\n",
       "      <td>167411.18</td>\n",
       "      <td>0.0</td>\n",
       "      <td>400184.25</td>\n",
       "      <td>NaN</td>\n",
       "      <td>567595.43</td>\n",
       "      <td>567595.43</td>\n",
       "      <td>2011</td>\n",
       "      <td>NaN</td>\n",
       "      <td>San Francisco</td>\n",
       "      <td>NaN</td>\n",
       "    </tr>\n",
       "    <tr>\n",
       "      <th>1</th>\n",
       "      <td>2</td>\n",
       "      <td>GARY JIMENEZ</td>\n",
       "      <td>CAPTAIN III (POLICE DEPARTMENT)</td>\n",
       "      <td>155966.02</td>\n",
       "      <td>245131.88</td>\n",
       "      <td>137811.38</td>\n",
       "      <td>NaN</td>\n",
       "      <td>538909.28</td>\n",
       "      <td>538909.28</td>\n",
       "      <td>2011</td>\n",
       "      <td>NaN</td>\n",
       "      <td>San Francisco</td>\n",
       "      <td>NaN</td>\n",
       "    </tr>\n",
       "    <tr>\n",
       "      <th>2</th>\n",
       "      <td>3</td>\n",
       "      <td>ALBERT PARDINI</td>\n",
       "      <td>CAPTAIN III (POLICE DEPARTMENT)</td>\n",
       "      <td>212739.13</td>\n",
       "      <td>106088.18</td>\n",
       "      <td>16452.6</td>\n",
       "      <td>NaN</td>\n",
       "      <td>335279.91</td>\n",
       "      <td>335279.91</td>\n",
       "      <td>2011</td>\n",
       "      <td>NaN</td>\n",
       "      <td>San Francisco</td>\n",
       "      <td>NaN</td>\n",
       "    </tr>\n",
       "    <tr>\n",
       "      <th>3</th>\n",
       "      <td>4</td>\n",
       "      <td>CHRISTOPHER CHONG</td>\n",
       "      <td>WIRE ROPE CABLE MAINTENANCE MECHANIC</td>\n",
       "      <td>77916.0</td>\n",
       "      <td>56120.71</td>\n",
       "      <td>198306.9</td>\n",
       "      <td>NaN</td>\n",
       "      <td>332343.61</td>\n",
       "      <td>332343.61</td>\n",
       "      <td>2011</td>\n",
       "      <td>NaN</td>\n",
       "      <td>San Francisco</td>\n",
       "      <td>NaN</td>\n",
       "    </tr>\n",
       "    <tr>\n",
       "      <th>4</th>\n",
       "      <td>5</td>\n",
       "      <td>PATRICK GARDNER</td>\n",
       "      <td>DEPUTY CHIEF OF DEPARTMENT,(FIRE DEPARTMENT)</td>\n",
       "      <td>134401.6</td>\n",
       "      <td>9737.0</td>\n",
       "      <td>182234.59</td>\n",
       "      <td>NaN</td>\n",
       "      <td>326373.19</td>\n",
       "      <td>326373.19</td>\n",
       "      <td>2011</td>\n",
       "      <td>NaN</td>\n",
       "      <td>San Francisco</td>\n",
       "      <td>NaN</td>\n",
       "    </tr>\n",
       "    <tr>\n",
       "      <th>...</th>\n",
       "      <td>...</td>\n",
       "      <td>...</td>\n",
       "      <td>...</td>\n",
       "      <td>...</td>\n",
       "      <td>...</td>\n",
       "      <td>...</td>\n",
       "      <td>...</td>\n",
       "      <td>...</td>\n",
       "      <td>...</td>\n",
       "      <td>...</td>\n",
       "      <td>...</td>\n",
       "      <td>...</td>\n",
       "      <td>...</td>\n",
       "    </tr>\n",
       "    <tr>\n",
       "      <th>110526</th>\n",
       "      <td>110527</td>\n",
       "      <td>Arthur L Curry</td>\n",
       "      <td>PS Aide Health Services</td>\n",
       "      <td>NaN</td>\n",
       "      <td>0.0</td>\n",
       "      <td>10.67</td>\n",
       "      <td>0.0</td>\n",
       "      <td>10.67</td>\n",
       "      <td>10.67</td>\n",
       "      <td>2013</td>\n",
       "      <td>NaN</td>\n",
       "      <td>San Francisco</td>\n",
       "      <td>NaN</td>\n",
       "    </tr>\n",
       "    <tr>\n",
       "      <th>110527</th>\n",
       "      <td>110528</td>\n",
       "      <td>Nereida  Vega</td>\n",
       "      <td>Senior Clerk</td>\n",
       "      <td>NaN</td>\n",
       "      <td>0.0</td>\n",
       "      <td>5.56</td>\n",
       "      <td>0.0</td>\n",
       "      <td>5.56</td>\n",
       "      <td>5.56</td>\n",
       "      <td>2013</td>\n",
       "      <td>NaN</td>\n",
       "      <td>San Francisco</td>\n",
       "      <td>NaN</td>\n",
       "    </tr>\n",
       "    <tr>\n",
       "      <th>110528</th>\n",
       "      <td>110529</td>\n",
       "      <td>Timothy E Gibson</td>\n",
       "      <td>Police Officer 3</td>\n",
       "      <td>NaN</td>\n",
       "      <td>0.0</td>\n",
       "      <td>0.0</td>\n",
       "      <td>-2.73</td>\n",
       "      <td>0.00</td>\n",
       "      <td>-2.73</td>\n",
       "      <td>2013</td>\n",
       "      <td>NaN</td>\n",
       "      <td>San Francisco</td>\n",
       "      <td>NaN</td>\n",
       "    </tr>\n",
       "    <tr>\n",
       "      <th>110529</th>\n",
       "      <td>110530</td>\n",
       "      <td>Mark E Laherty</td>\n",
       "      <td>Police Officer 3</td>\n",
       "      <td>NaN</td>\n",
       "      <td>0.0</td>\n",
       "      <td>0.0</td>\n",
       "      <td>-8.2</td>\n",
       "      <td>0.00</td>\n",
       "      <td>-8.20</td>\n",
       "      <td>2013</td>\n",
       "      <td>NaN</td>\n",
       "      <td>San Francisco</td>\n",
       "      <td>NaN</td>\n",
       "    </tr>\n",
       "    <tr>\n",
       "      <th>110530</th>\n",
       "      <td>110531</td>\n",
       "      <td>David P Kucia</td>\n",
       "      <td>Police Officer 3</td>\n",
       "      <td>NaN</td>\n",
       "      <td>0.0</td>\n",
       "      <td>0.0</td>\n",
       "      <td>-33.89</td>\n",
       "      <td>0.00</td>\n",
       "      <td>-33.89</td>\n",
       "      <td>2013</td>\n",
       "      <td>NaN</td>\n",
       "      <td>San Francisco</td>\n",
       "      <td>NaN</td>\n",
       "    </tr>\n",
       "  </tbody>\n",
       "</table>\n",
       "<p>36764 rows × 13 columns</p>\n",
       "</div>"
      ],
      "text/plain": [
       "            Id       EmployeeName  \\\n",
       "0            1     NATHANIEL FORD   \n",
       "1            2       GARY JIMENEZ   \n",
       "2            3     ALBERT PARDINI   \n",
       "3            4  CHRISTOPHER CHONG   \n",
       "4            5    PATRICK GARDNER   \n",
       "...        ...                ...   \n",
       "110526  110527     Arthur L Curry   \n",
       "110527  110528      Nereida  Vega   \n",
       "110528  110529   Timothy E Gibson   \n",
       "110529  110530     Mark E Laherty   \n",
       "110530  110531      David P Kucia   \n",
       "\n",
       "                                              JobTitle    BasePay OvertimePay  \\\n",
       "0       GENERAL MANAGER-METROPOLITAN TRANSIT AUTHORITY  167411.18         0.0   \n",
       "1                      CAPTAIN III (POLICE DEPARTMENT)  155966.02   245131.88   \n",
       "2                      CAPTAIN III (POLICE DEPARTMENT)  212739.13   106088.18   \n",
       "3                 WIRE ROPE CABLE MAINTENANCE MECHANIC    77916.0    56120.71   \n",
       "4         DEPUTY CHIEF OF DEPARTMENT,(FIRE DEPARTMENT)   134401.6      9737.0   \n",
       "...                                                ...        ...         ...   \n",
       "110526                         PS Aide Health Services        NaN         0.0   \n",
       "110527                                    Senior Clerk        NaN         0.0   \n",
       "110528                                Police Officer 3        NaN         0.0   \n",
       "110529                                Police Officer 3        NaN         0.0   \n",
       "110530                                Police Officer 3        NaN         0.0   \n",
       "\n",
       "         OtherPay Benefits   TotalPay  TotalPayBenefits  Year  Notes  \\\n",
       "0       400184.25      NaN  567595.43         567595.43  2011    NaN   \n",
       "1       137811.38      NaN  538909.28         538909.28  2011    NaN   \n",
       "2         16452.6      NaN  335279.91         335279.91  2011    NaN   \n",
       "3        198306.9      NaN  332343.61         332343.61  2011    NaN   \n",
       "4       182234.59      NaN  326373.19         326373.19  2011    NaN   \n",
       "...           ...      ...        ...               ...   ...    ...   \n",
       "110526      10.67      0.0      10.67             10.67  2013    NaN   \n",
       "110527       5.56      0.0       5.56              5.56  2013    NaN   \n",
       "110528        0.0    -2.73       0.00             -2.73  2013    NaN   \n",
       "110529        0.0     -8.2       0.00             -8.20  2013    NaN   \n",
       "110530        0.0   -33.89       0.00            -33.89  2013    NaN   \n",
       "\n",
       "               Agency Status  \n",
       "0       San Francisco    NaN  \n",
       "1       San Francisco    NaN  \n",
       "2       San Francisco    NaN  \n",
       "3       San Francisco    NaN  \n",
       "4       San Francisco    NaN  \n",
       "...               ...    ...  \n",
       "110526  San Francisco    NaN  \n",
       "110527  San Francisco    NaN  \n",
       "110528  San Francisco    NaN  \n",
       "110529  San Francisco    NaN  \n",
       "110530  San Francisco    NaN  \n",
       "\n",
       "[36764 rows x 13 columns]"
      ]
     },
     "execution_count": 28,
     "metadata": {},
     "output_type": "execute_result"
    }
   ],
   "source": [
    "data[data.isnull().sum(axis =1)==3]"
   ]
  },
  {
   "cell_type": "code",
   "execution_count": 29,
   "id": "91a6a565",
   "metadata": {
    "execution": {
     "iopub.execute_input": "2024-04-30T10:22:51.651715Z",
     "iopub.status.busy": "2024-04-30T10:22:51.651371Z",
     "iopub.status.idle": "2024-04-30T10:22:51.723546Z",
     "shell.execute_reply": "2024-04-30T10:22:51.722646Z"
    },
    "papermill": {
     "duration": 0.086599,
     "end_time": "2024-04-30T10:22:51.725670",
     "exception": false,
     "start_time": "2024-04-30T10:22:51.639071",
     "status": "completed"
    },
    "tags": []
   },
   "outputs": [],
   "source": [
    "data.drop(data[data.isnull().sum(axis =1)==3].index, axis = 0, inplace = True)"
   ]
  },
  {
   "cell_type": "code",
   "execution_count": 30,
   "id": "716f22f9",
   "metadata": {
    "execution": {
     "iopub.execute_input": "2024-04-30T10:22:51.749082Z",
     "iopub.status.busy": "2024-04-30T10:22:51.748738Z",
     "iopub.status.idle": "2024-04-30T10:22:51.795388Z",
     "shell.execute_reply": "2024-04-30T10:22:51.794267Z"
    },
    "papermill": {
     "duration": 0.06104,
     "end_time": "2024-04-30T10:22:51.797667",
     "exception": false,
     "start_time": "2024-04-30T10:22:51.736627",
     "status": "completed"
    },
    "tags": []
   },
   "outputs": [
    {
     "data": {
      "text/plain": [
       "36159     2\n",
       "36160     2\n",
       "36161     2\n",
       "36162     2\n",
       "36163     2\n",
       "         ..\n",
       "148649    1\n",
       "148650    2\n",
       "148651    2\n",
       "148652    2\n",
       "148653    1\n",
       "Length: 111890, dtype: int64"
      ]
     },
     "execution_count": 30,
     "metadata": {},
     "output_type": "execute_result"
    }
   ],
   "source": [
    "data.isnull().sum(axis =1)"
   ]
  },
  {
   "cell_type": "code",
   "execution_count": 31,
   "id": "5f72e12f",
   "metadata": {
    "execution": {
     "iopub.execute_input": "2024-04-30T10:22:51.821850Z",
     "iopub.status.busy": "2024-04-30T10:22:51.821502Z",
     "iopub.status.idle": "2024-04-30T10:22:51.845444Z",
     "shell.execute_reply": "2024-04-30T10:22:51.844534Z"
    },
    "papermill": {
     "duration": 0.038107,
     "end_time": "2024-04-30T10:22:51.847390",
     "exception": false,
     "start_time": "2024-04-30T10:22:51.809283",
     "status": "completed"
    },
    "tags": []
   },
   "outputs": [
    {
     "data": {
      "text/html": [
       "<div>\n",
       "<style scoped>\n",
       "    .dataframe tbody tr th:only-of-type {\n",
       "        vertical-align: middle;\n",
       "    }\n",
       "\n",
       "    .dataframe tbody tr th {\n",
       "        vertical-align: top;\n",
       "    }\n",
       "\n",
       "    .dataframe thead th {\n",
       "        text-align: right;\n",
       "    }\n",
       "</style>\n",
       "<table border=\"1\" class=\"dataframe\">\n",
       "  <thead>\n",
       "    <tr style=\"text-align: right;\">\n",
       "      <th></th>\n",
       "      <th>Id</th>\n",
       "      <th>EmployeeName</th>\n",
       "      <th>JobTitle</th>\n",
       "      <th>BasePay</th>\n",
       "      <th>OvertimePay</th>\n",
       "      <th>OtherPay</th>\n",
       "      <th>Benefits</th>\n",
       "      <th>TotalPay</th>\n",
       "      <th>TotalPayBenefits</th>\n",
       "      <th>Year</th>\n",
       "      <th>Notes</th>\n",
       "      <th>Agency</th>\n",
       "      <th>Status</th>\n",
       "    </tr>\n",
       "  </thead>\n",
       "  <tbody>\n",
       "    <tr>\n",
       "      <th>36519</th>\n",
       "      <td>36520</td>\n",
       "      <td>Albert Pardini</td>\n",
       "      <td>Captain 3</td>\n",
       "      <td>196265.04</td>\n",
       "      <td>0.0</td>\n",
       "      <td>11404.04</td>\n",
       "      <td>46326.21</td>\n",
       "      <td>207669.08</td>\n",
       "      <td>253995.29</td>\n",
       "      <td>2012</td>\n",
       "      <td>NaN</td>\n",
       "      <td>San Francisco</td>\n",
       "      <td>NaN</td>\n",
       "    </tr>\n",
       "  </tbody>\n",
       "</table>\n",
       "</div>"
      ],
      "text/plain": [
       "          Id    EmployeeName   JobTitle    BasePay OvertimePay  OtherPay  \\\n",
       "36519  36520  Albert Pardini  Captain 3  196265.04         0.0  11404.04   \n",
       "\n",
       "       Benefits   TotalPay  TotalPayBenefits  Year  Notes         Agency  \\\n",
       "36519  46326.21  207669.08         253995.29  2012    NaN  San Francisco   \n",
       "\n",
       "      Status  \n",
       "36519    NaN  "
      ]
     },
     "execution_count": 31,
     "metadata": {},
     "output_type": "execute_result"
    }
   ],
   "source": [
    "data[data['EmployeeName']=='Albert Pardini']"
   ]
  },
  {
   "cell_type": "code",
   "execution_count": 32,
   "id": "812e8751",
   "metadata": {
    "execution": {
     "iopub.execute_input": "2024-04-30T10:22:51.872065Z",
     "iopub.status.busy": "2024-04-30T10:22:51.871737Z",
     "iopub.status.idle": "2024-04-30T10:22:51.886922Z",
     "shell.execute_reply": "2024-04-30T10:22:51.886118Z"
    },
    "papermill": {
     "duration": 0.029675,
     "end_time": "2024-04-30T10:22:51.888584",
     "exception": false,
     "start_time": "2024-04-30T10:22:51.858909",
     "status": "completed"
    },
    "tags": []
   },
   "outputs": [
    {
     "data": {
      "text/plain": [
       "36519    253995.29\n",
       "Name: TotalPayBenefits, dtype: float64"
      ]
     },
     "execution_count": 32,
     "metadata": {},
     "output_type": "execute_result"
    }
   ],
   "source": [
    "data[data['EmployeeName']=='Albert Pardini']['TotalPayBenefits']"
   ]
  },
  {
   "cell_type": "code",
   "execution_count": 33,
   "id": "2b1ee91d",
   "metadata": {
    "execution": {
     "iopub.execute_input": "2024-04-30T10:22:51.912340Z",
     "iopub.status.busy": "2024-04-30T10:22:51.912008Z",
     "iopub.status.idle": "2024-04-30T10:22:51.920499Z",
     "shell.execute_reply": "2024-04-30T10:22:51.919169Z"
    },
    "papermill": {
     "duration": 0.023278,
     "end_time": "2024-04-30T10:22:51.923119",
     "exception": false,
     "start_time": "2024-04-30T10:22:51.899841",
     "status": "completed"
    },
    "tags": []
   },
   "outputs": [
    {
     "data": {
      "text/plain": [
       "36159        128808.87\n",
       "36160         302578.0\n",
       "36161         111921.0\n",
       "36162        296943.01\n",
       "36163        126863.19\n",
       "              ...     \n",
       "148649            0.00\n",
       "148650    Not Provided\n",
       "148651    Not Provided\n",
       "148652    Not Provided\n",
       "148653            0.00\n",
       "Name: BasePay, Length: 111890, dtype: object"
      ]
     },
     "execution_count": 33,
     "metadata": {},
     "output_type": "execute_result"
    }
   ],
   "source": [
    "data['BasePay']"
   ]
  },
  {
   "cell_type": "code",
   "execution_count": 34,
   "id": "14b5e40b",
   "metadata": {
    "execution": {
     "iopub.execute_input": "2024-04-30T10:22:51.948397Z",
     "iopub.status.busy": "2024-04-30T10:22:51.948059Z",
     "iopub.status.idle": "2024-04-30T10:22:51.966789Z",
     "shell.execute_reply": "2024-04-30T10:22:51.965976Z"
    },
    "papermill": {
     "duration": 0.033301,
     "end_time": "2024-04-30T10:22:51.968538",
     "exception": false,
     "start_time": "2024-04-30T10:22:51.935237",
     "status": "completed"
    },
    "tags": []
   },
   "outputs": [],
   "source": [
    "data['BasePay'] = pd.to_numeric(data['BasePay'], errors='coerce')"
   ]
  },
  {
   "cell_type": "code",
   "execution_count": 35,
   "id": "4da682fc",
   "metadata": {
    "execution": {
     "iopub.execute_input": "2024-04-30T10:22:51.994899Z",
     "iopub.status.busy": "2024-04-30T10:22:51.994514Z",
     "iopub.status.idle": "2024-04-30T10:22:52.017796Z",
     "shell.execute_reply": "2024-04-30T10:22:52.016456Z"
    },
    "papermill": {
     "duration": 0.038647,
     "end_time": "2024-04-30T10:22:52.019952",
     "exception": false,
     "start_time": "2024-04-30T10:22:51.981305",
     "status": "completed"
    },
    "tags": []
   },
   "outputs": [
    {
     "name": "stdout",
     "output_type": "stream",
     "text": [
      "36159     128808.87\n",
      "36160     302578.00\n",
      "36161     111921.00\n",
      "36162     296943.01\n",
      "36163     126863.19\n",
      "            ...    \n",
      "148645         0.00\n",
      "148647         0.00\n",
      "148648         0.00\n",
      "148649         0.00\n",
      "148653         0.00\n",
      "Name: BasePay, Length: 111886, dtype: float64\n"
     ]
    }
   ],
   "source": [
    "data.dropna(subset=['BasePay'], inplace=True)\n",
    "print(data['BasePay'])"
   ]
  },
  {
   "cell_type": "code",
   "execution_count": 36,
   "id": "7f6d25dc",
   "metadata": {
    "execution": {
     "iopub.execute_input": "2024-04-30T10:22:52.046178Z",
     "iopub.status.busy": "2024-04-30T10:22:52.045825Z",
     "iopub.status.idle": "2024-04-30T10:22:52.061970Z",
     "shell.execute_reply": "2024-04-30T10:22:52.061083Z"
    },
    "papermill": {
     "duration": 0.032171,
     "end_time": "2024-04-30T10:22:52.064139",
     "exception": false,
     "start_time": "2024-04-30T10:22:52.031968",
     "status": "completed"
    },
    "tags": []
   },
   "outputs": [
    {
     "data": {
      "text/html": [
       "<div>\n",
       "<style scoped>\n",
       "    .dataframe tbody tr th:only-of-type {\n",
       "        vertical-align: middle;\n",
       "    }\n",
       "\n",
       "    .dataframe tbody tr th {\n",
       "        vertical-align: top;\n",
       "    }\n",
       "\n",
       "    .dataframe thead th {\n",
       "        text-align: right;\n",
       "    }\n",
       "</style>\n",
       "<table border=\"1\" class=\"dataframe\">\n",
       "  <thead>\n",
       "    <tr style=\"text-align: right;\">\n",
       "      <th></th>\n",
       "      <th>Id</th>\n",
       "      <th>EmployeeName</th>\n",
       "      <th>JobTitle</th>\n",
       "      <th>BasePay</th>\n",
       "      <th>OvertimePay</th>\n",
       "      <th>OtherPay</th>\n",
       "      <th>Benefits</th>\n",
       "      <th>TotalPay</th>\n",
       "      <th>TotalPayBenefits</th>\n",
       "      <th>Year</th>\n",
       "      <th>Notes</th>\n",
       "      <th>Agency</th>\n",
       "      <th>Status</th>\n",
       "    </tr>\n",
       "  </thead>\n",
       "  <tbody>\n",
       "    <tr>\n",
       "      <th>72925</th>\n",
       "      <td>72926</td>\n",
       "      <td>Gregory P Suhr</td>\n",
       "      <td>Chief of Police</td>\n",
       "      <td>319275.01</td>\n",
       "      <td>0.0</td>\n",
       "      <td>20007.06</td>\n",
       "      <td>86533.21</td>\n",
       "      <td>339282.07</td>\n",
       "      <td>425815.28</td>\n",
       "      <td>2013</td>\n",
       "      <td>NaN</td>\n",
       "      <td>San Francisco</td>\n",
       "      <td>NaN</td>\n",
       "    </tr>\n",
       "  </tbody>\n",
       "</table>\n",
       "</div>"
      ],
      "text/plain": [
       "          Id    EmployeeName         JobTitle    BasePay OvertimePay  \\\n",
       "72925  72926  Gregory P Suhr  Chief of Police  319275.01         0.0   \n",
       "\n",
       "       OtherPay  Benefits   TotalPay  TotalPayBenefits  Year  Notes  \\\n",
       "72925  20007.06  86533.21  339282.07         425815.28  2013    NaN   \n",
       "\n",
       "              Agency Status  \n",
       "72925  San Francisco    NaN  "
      ]
     },
     "execution_count": 36,
     "metadata": {},
     "output_type": "execute_result"
    }
   ],
   "source": [
    "data[data['BasePay'].max()==data['BasePay']]#['EmployeeName']"
   ]
  },
  {
   "cell_type": "code",
   "execution_count": 37,
   "id": "72ba0f77",
   "metadata": {
    "execution": {
     "iopub.execute_input": "2024-04-30T10:22:52.089992Z",
     "iopub.status.busy": "2024-04-30T10:22:52.089536Z",
     "iopub.status.idle": "2024-04-30T10:22:52.098337Z",
     "shell.execute_reply": "2024-04-30T10:22:52.097441Z"
    },
    "papermill": {
     "duration": 0.024031,
     "end_time": "2024-04-30T10:22:52.100196",
     "exception": false,
     "start_time": "2024-04-30T10:22:52.076165",
     "status": "completed"
    },
    "tags": []
   },
   "outputs": [
    {
     "data": {
      "text/plain": [
       "72925    Gregory P Suhr\n",
       "Name: EmployeeName, dtype: object"
      ]
     },
     "execution_count": 37,
     "metadata": {},
     "output_type": "execute_result"
    }
   ],
   "source": [
    "data[data['BasePay'].max()==data['BasePay']]['EmployeeName']"
   ]
  },
  {
   "cell_type": "code",
   "execution_count": 38,
   "id": "a8d2db6f",
   "metadata": {
    "execution": {
     "iopub.execute_input": "2024-04-30T10:22:52.125404Z",
     "iopub.status.busy": "2024-04-30T10:22:52.125092Z",
     "iopub.status.idle": "2024-04-30T10:22:52.135383Z",
     "shell.execute_reply": "2024-04-30T10:22:52.134213Z"
    },
    "papermill": {
     "duration": 0.025259,
     "end_time": "2024-04-30T10:22:52.137426",
     "exception": false,
     "start_time": "2024-04-30T10:22:52.112167",
     "status": "completed"
    },
    "tags": []
   },
   "outputs": [
    {
     "name": "stdout",
     "output_type": "stream",
     "text": [
      "Year\n",
      "2012    65436.406857\n",
      "2013    69630.030216\n",
      "2014    66564.421924\n",
      "Name: BasePay, dtype: float64\n"
     ]
    }
   ],
   "source": [
    "data['BasePay'] = pd.to_numeric(data['BasePay'], errors='coerce')\n",
    "result = data.groupby('Year')['BasePay'].mean()\n",
    "print(result)"
   ]
  },
  {
   "cell_type": "code",
   "execution_count": 39,
   "id": "7d8f2de2",
   "metadata": {
    "execution": {
     "iopub.execute_input": "2024-04-30T10:22:52.163248Z",
     "iopub.status.busy": "2024-04-30T10:22:52.162915Z",
     "iopub.status.idle": "2024-04-30T10:22:52.171534Z",
     "shell.execute_reply": "2024-04-30T10:22:52.170769Z"
    },
    "papermill": {
     "duration": 0.023649,
     "end_time": "2024-04-30T10:22:52.173204",
     "exception": false,
     "start_time": "2024-04-30T10:22:52.149555",
     "status": "completed"
    },
    "tags": []
   },
   "outputs": [
    {
     "data": {
      "text/plain": [
       "Year\n",
       "2012    65436.406857\n",
       "2013    69630.030216\n",
       "2014    66564.421924\n",
       "Name: BasePay, dtype: float64"
      ]
     },
     "execution_count": 39,
     "metadata": {},
     "output_type": "execute_result"
    }
   ],
   "source": [
    "data.groupby('Year')['BasePay'].mean()"
   ]
  },
  {
   "cell_type": "code",
   "execution_count": 40,
   "id": "89b820b8",
   "metadata": {
    "execution": {
     "iopub.execute_input": "2024-04-30T10:22:52.198517Z",
     "iopub.status.busy": "2024-04-30T10:22:52.198193Z",
     "iopub.status.idle": "2024-04-30T10:22:52.257707Z",
     "shell.execute_reply": "2024-04-30T10:22:52.256740Z"
    },
    "papermill": {
     "duration": 0.074153,
     "end_time": "2024-04-30T10:22:52.259453",
     "exception": false,
     "start_time": "2024-04-30T10:22:52.185300",
     "status": "completed"
    },
    "tags": []
   },
   "outputs": [
    {
     "data": {
      "text/plain": [
       "75336.18288798921"
      ]
     },
     "execution_count": 40,
     "metadata": {},
     "output_type": "execute_result"
    }
   ],
   "source": [
    "data[data['JobTitle'].str.contains('Accountant', case= False)]['BasePay'].mean()"
   ]
  },
  {
   "cell_type": "code",
   "execution_count": 41,
   "id": "dfa23fe5",
   "metadata": {
    "execution": {
     "iopub.execute_input": "2024-04-30T10:22:52.284445Z",
     "iopub.status.busy": "2024-04-30T10:22:52.284138Z",
     "iopub.status.idle": "2024-04-30T10:22:52.298914Z",
     "shell.execute_reply": "2024-04-30T10:22:52.297977Z"
    },
    "papermill": {
     "duration": 0.029377,
     "end_time": "2024-04-30T10:22:52.300680",
     "exception": false,
     "start_time": "2024-04-30T10:22:52.271303",
     "status": "completed"
    },
    "tags": []
   },
   "outputs": [
    {
     "data": {
      "text/plain": [
       "JobTitle\n",
       "Transit Operator                6975\n",
       "Special Nurse                   4382\n",
       "Registered Nurse                3725\n",
       "Public Svc Aide-Public Works    2514\n",
       "Police Officer 3                2411\n",
       "Name: count, dtype: int64"
      ]
     },
     "execution_count": 41,
     "metadata": {},
     "output_type": "execute_result"
    }
   ],
   "source": [
    "data['JobTitle'].value_counts().head()"
   ]
  }
 ],
 "metadata": {
  "kaggle": {
   "accelerator": "none",
   "dataSources": [
    {
     "datasetId": 14,
     "sourceId": 827864,
     "sourceType": "datasetVersion"
    }
   ],
   "dockerImageVersionId": 30698,
   "isGpuEnabled": false,
   "isInternetEnabled": true,
   "language": "python",
   "sourceType": "notebook"
  },
  "kernelspec": {
   "display_name": "Python 3",
   "language": "python",
   "name": "python3"
  },
  "language_info": {
   "codemirror_mode": {
    "name": "ipython",
    "version": 3
   },
   "file_extension": ".py",
   "mimetype": "text/x-python",
   "name": "python",
   "nbconvert_exporter": "python",
   "pygments_lexer": "ipython3",
   "version": "3.10.13"
  },
  "papermill": {
   "default_parameters": {},
   "duration": 6.934168,
   "end_time": "2024-04-30T10:22:52.832299",
   "environment_variables": {},
   "exception": null,
   "input_path": "__notebook__.ipynb",
   "output_path": "__notebook__.ipynb",
   "parameters": {},
   "start_time": "2024-04-30T10:22:45.898131",
   "version": "2.5.0"
  }
 },
 "nbformat": 4,
 "nbformat_minor": 5
}
